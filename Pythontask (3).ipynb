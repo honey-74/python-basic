{
  "nbformat": 4,
  "nbformat_minor": 0,
  "metadata": {
    "colab": {
      "provenance": []
    },
    "kernelspec": {
      "name": "python3",
      "display_name": "Python 3"
    },
    "language_info": {
      "name": "python"
    }
  },
  "cells": [
    {
      "cell_type": "code",
      "execution_count": null,
      "metadata": {
        "colab": {
          "base_uri": "https://localhost:8080/"
        },
        "id": "QOjLiwB8yS_3",
        "outputId": "6bdeabb6-422f-4685-98e7-1be1420bef53"
      },
      "outputs": [
        {
          "output_type": "stream",
          "name": "stdout",
          "text": [
            "hello world \n"
          ]
        }
      ],
      "source": [
        "print(\"hello world \")\n"
      ]
    },
    {
      "cell_type": "code",
      "source": [
        "print(\"i am thenmozhi \\nmy age 20\\ni am from tenkasi \")"
      ],
      "metadata": {
        "colab": {
          "base_uri": "https://localhost:8080/"
        },
        "id": "KHqRLzKTyg2v",
        "outputId": "cd429a81-2af6-40cf-c8a3-f15955254bf2"
      },
      "execution_count": null,
      "outputs": [
        {
          "output_type": "stream",
          "name": "stdout",
          "text": [
            "i am thenmozhi \n",
            "my age 20\n",
            "i am from tenkasi \n"
          ]
        }
      ]
    },
    {
      "cell_type": "code",
      "source": [
        "age=19\n",
        "print(\"My age is\",age)"
      ],
      "metadata": {
        "colab": {
          "base_uri": "https://localhost:8080/"
        },
        "id": "_fXiFq_vyvpL",
        "outputId": "c323e25f-6b9f-47d8-a9da-1ed6d7945209"
      },
      "execution_count": null,
      "outputs": [
        {
          "output_type": "stream",
          "name": "stdout",
          "text": [
            "My age is 19\n"
          ]
        }
      ]
    },
    {
      "cell_type": "code",
      "source": [
        "a=15\n",
        "b=\"kalai\"\n",
        "print(type(a),\"\\n\",type(b))"
      ],
      "metadata": {
        "colab": {
          "base_uri": "https://localhost:8080/"
        },
        "id": "w6pqydl90oAz",
        "outputId": "cda63895-07cf-4aa3-8958-feaeed21396b"
      },
      "execution_count": null,
      "outputs": [
        {
          "output_type": "stream",
          "name": "stdout",
          "text": [
            "<class 'int'> \n",
            " <class 'str'>\n"
          ]
        }
      ]
    },
    {
      "cell_type": "code",
      "source": [
        "a=28\n",
        "b=str(a)\n",
        "c=int(b)\n",
        "f= float(a)\n",
        "print(b,f)\n",
        "print(c+a)"
      ],
      "metadata": {
        "colab": {
          "base_uri": "https://localhost:8080/"
        },
        "id": "W0_vMxlv1NMy",
        "outputId": "df468de5-c47d-40d5-bd09-ed7209102302"
      },
      "execution_count": null,
      "outputs": [
        {
          "output_type": "stream",
          "name": "stdout",
          "text": [
            "28 28.0\n",
            "56\n"
          ]
        }
      ]
    },
    {
      "cell_type": "code",
      "source": [
        "a=\"weight\"\n",
        "b=50\n",
        "print(a,b)"
      ],
      "metadata": {
        "colab": {
          "base_uri": "https://localhost:8080/"
        },
        "id": "q5ATefos2ElY",
        "outputId": "01935ab2-f7e0-40a6-ffde-8349c0b9644e"
      },
      "execution_count": null,
      "outputs": [
        {
          "output_type": "stream",
          "name": "stdout",
          "text": [
            "weight 50\n"
          ]
        }
      ]
    },
    {
      "cell_type": "code",
      "source": [
        "a=12\n",
        "b=3\n",
        "print(\"add:\",a+b)\n",
        "print(\"sub:\",a-b)\n",
        "print(\"mul:\",a*b)\n",
        "print(\"div:\",a/b)"
      ],
      "metadata": {
        "colab": {
          "base_uri": "https://localhost:8080/"
        },
        "id": "ubYgqZPc2hgp",
        "outputId": "dec47338-f01b-4568-df4d-f5143b6a3159"
      },
      "execution_count": null,
      "outputs": [
        {
          "output_type": "stream",
          "name": "stdout",
          "text": [
            "add: 15\n",
            "sub: 9\n",
            "mul: 36\n",
            "div: 4.0\n"
          ]
        }
      ]
    },
    {
      "cell_type": "code",
      "source": [
        "print(\"mod:\",a%b)\n",
        "print(\"exp:\",a**b)"
      ],
      "metadata": {
        "colab": {
          "base_uri": "https://localhost:8080/"
        },
        "id": "pGcgamwi3ZnZ",
        "outputId": "8dba0989-0f09-41d8-bc03-bbc5bf4ad527"
      },
      "execution_count": null,
      "outputs": [
        {
          "output_type": "stream",
          "name": "stdout",
          "text": [
            "mod: 0\n",
            "exp: 1728\n"
          ]
        }
      ]
    },
    {
      "cell_type": "code",
      "source": [
        "print(\"f.div:\",a//b)"
      ],
      "metadata": {
        "colab": {
          "base_uri": "https://localhost:8080/"
        },
        "id": "H4SwK7IU30yk",
        "outputId": "d0f5ecae-90ff-4b88-c5ff-d6c84bdab1b7"
      },
      "execution_count": null,
      "outputs": [
        {
          "output_type": "stream",
          "name": "stdout",
          "text": [
            "f.div: 4\n"
          ]
        }
      ]
    },
    {
      "cell_type": "code",
      "source": [
        "n=int(input(\"enter the number:\"))\n",
        "if(n%2==0):\n",
        "  print (\"even\")\n",
        "else:\n",
        "  print (\"odd\")"
      ],
      "metadata": {
        "colab": {
          "base_uri": "https://localhost:8080/"
        },
        "id": "RPEpTIkA4ICs",
        "outputId": "e7b65476-d5f3-47c3-c837-201259d0527c"
      },
      "execution_count": null,
      "outputs": [
        {
          "output_type": "stream",
          "name": "stdout",
          "text": [
            "enter the number:23\n",
            "odd\n"
          ]
        }
      ]
    },
    {
      "cell_type": "code",
      "source": [
        "a=[12,32,2,7,45,8]\n",
        "l= max(a)\n",
        "print(\"the largest number is:\",l)"
      ],
      "metadata": {
        "colab": {
          "base_uri": "https://localhost:8080/"
        },
        "id": "Ct2eqis84shh",
        "outputId": "87c81f63-9185-4713-98c7-556f4e116cd5"
      },
      "execution_count": null,
      "outputs": [
        {
          "output_type": "stream",
          "name": "stdout",
          "text": [
            "the largest number is: 45\n"
          ]
        }
      ]
    },
    {
      "cell_type": "code",
      "source": [
        "n=int(input(\"enter your mark for 100:\"))\n",
        "if(n>=90):\n",
        "  print(\"A\")\n",
        "elif(n>=70):\n",
        "  print (\"B\")\n",
        "elif(n>=50):\n",
        "  print(\"C\")\n",
        "else:\n",
        "  Print(\"fail\")"
      ],
      "metadata": {
        "colab": {
          "base_uri": "https://localhost:8080/"
        },
        "id": "6bB4oWZp_NK9",
        "outputId": "e39d0fbf-360e-440a-91c4-9849f332492d"
      },
      "execution_count": null,
      "outputs": [
        {
          "output_type": "stream",
          "name": "stdout",
          "text": [
            "enter your mark for 100:65\n",
            "C\n"
          ]
        }
      ]
    },
    {
      "cell_type": "code",
      "source": [
        "n=int(input(\" enter the number:\"))\n",
        "if(n>0):\n",
        "  print(\"positive\")\n",
        "elif(n<0):\n",
        "  print(\"negative\")\n",
        "else:\n",
        "  print(\"zero\")"
      ],
      "metadata": {
        "colab": {
          "base_uri": "https://localhost:8080/"
        },
        "id": "JZng6XveCcQW",
        "outputId": "9631d19d-454b-4dda-f6ec-5e1fd1924fc3"
      },
      "execution_count": null,
      "outputs": [
        {
          "output_type": "stream",
          "name": "stdout",
          "text": [
            " enter the number:4\n",
            "positive\n"
          ]
        }
      ]
    },
    {
      "cell_type": "code",
      "source": [
        "a=24\n",
        "b=6\n",
        "c=17\n",
        "if(a>b):\n",
        "  if(a>c):\n",
        "    print(\"a is largest number.\")\n",
        "  else:\n",
        "    print(\"c is largest number.\")\n",
        "else:\n",
        "  if(b>c):\n",
        "    print(\"b is largest number.\")\n",
        "  else:\n",
        "    Print(\"c is largest number.\")"
      ],
      "metadata": {
        "colab": {
          "base_uri": "https://localhost:8080/"
        },
        "id": "USEY7jk1Na1t",
        "outputId": "dbe523f0-a9fe-4d66-fa49-d24700b889d9"
      },
      "execution_count": null,
      "outputs": [
        {
          "output_type": "stream",
          "name": "stdout",
          "text": [
            "a is largest number.\n"
          ]
        }
      ]
    },
    {
      "cell_type": "code",
      "source": [
        "y=int(input(\"enter the year:\"))\n",
        "if(y%4==0):\n",
        "  print(\"it is leap year.\")\n",
        "else:\n",
        "  print(\"it is not leap year.\")"
      ],
      "metadata": {
        "colab": {
          "base_uri": "https://localhost:8080/"
        },
        "id": "lvupGP53PkXW",
        "outputId": "f62a1cfc-1f39-489d-bea1-d82d375b3b16"
      },
      "execution_count": null,
      "outputs": [
        {
          "output_type": "stream",
          "name": "stdout",
          "text": [
            "enter the year:2005\n",
            "it is not leap year.\n"
          ]
        }
      ]
    },
    {
      "cell_type": "code",
      "source": [
        "c=input(\"enter the alphabet:\")\n",
        "if(c=='a' or c=='e' or c=='i' or c=='o' or c=='u'):\n",
        "  print(\"vowel\")\n",
        "else:\n",
        "  print(\"consonant\")"
      ],
      "metadata": {
        "colab": {
          "base_uri": "https://localhost:8080/"
        },
        "id": "WEZS6g85RI9d",
        "outputId": "65f966f9-46d1-479a-c0cc-b189a84a660d"
      },
      "execution_count": null,
      "outputs": [
        {
          "output_type": "stream",
          "name": "stdout",
          "text": [
            "enter the alphabet:I\n",
            "consonant\n"
          ]
        }
      ]
    },
    {
      "cell_type": "code",
      "source": [
        "o=input(\"enter the operator\")\n",
        "if(o=='+'):\n",
        "  print(a+b)\n",
        "elif(o=='-'):\n",
        "  print(a-b)\n",
        "elif(o=='*'):\n",
        "  print(a*b)\n",
        "elif(o=='/'):\n",
        "  print(a/b)\n",
        "else:\n",
        "  print(\"enter the operator in +,-,*,/\")"
      ],
      "metadata": {
        "colab": {
          "base_uri": "https://localhost:8080/"
        },
        "id": "ignTKHdIS88P",
        "outputId": "d6dbef1f-df5f-4883-c885-f2032cdf808c"
      },
      "execution_count": null,
      "outputs": [
        {
          "output_type": "stream",
          "name": "stdout",
          "text": [
            "enter the operator+\n",
            "30\n"
          ]
        }
      ]
    },
    {
      "cell_type": "code",
      "source": [
        "for i in range(1,6):\n",
        "  print(i)"
      ],
      "metadata": {
        "id": "cHbrg8c_T-YJ",
        "colab": {
          "base_uri": "https://localhost:8080/"
        },
        "outputId": "5bfcff74-1773-4ee7-d082-862b8a6d9f6e"
      },
      "execution_count": null,
      "outputs": [
        {
          "output_type": "stream",
          "name": "stdout",
          "text": [
            "1\n",
            "2\n",
            "3\n",
            "4\n",
            "5\n"
          ]
        }
      ]
    },
    {
      "cell_type": "code",
      "source": [
        "for i in range(1,11):\n",
        "  if(i%2==0):\n",
        "    print(i)"
      ],
      "metadata": {
        "colab": {
          "base_uri": "https://localhost:8080/"
        },
        "id": "aoGwchs4VtwK",
        "outputId": "094820a7-ea0c-4bd6-e468-bb080564ac48"
      },
      "execution_count": null,
      "outputs": [
        {
          "output_type": "stream",
          "name": "stdout",
          "text": [
            "2\n",
            "4\n",
            "6\n",
            "8\n",
            "10\n"
          ]
        }
      ]
    },
    {
      "cell_type": "code",
      "source": [
        "l=[3,5,9,2,7]\n",
        "i=0\n",
        "while(i<len(l)):\n",
        "  print(l[i])\n",
        "  i+=1"
      ],
      "metadata": {
        "colab": {
          "base_uri": "https://localhost:8080/"
        },
        "id": "AZbT7SvrXK73",
        "outputId": "6896ff8a-32a7-4c45-fc0e-1852171ab5aa"
      },
      "execution_count": null,
      "outputs": [
        {
          "output_type": "stream",
          "name": "stdout",
          "text": [
            "3\n",
            "5\n",
            "9\n",
            "2\n",
            "7\n"
          ]
        }
      ]
    },
    {
      "cell_type": "code",
      "source": [
        "from sympy import*\n",
        "n=100\n",
        "for i in range(0,100):\n",
        "  k=isprime(i)\n",
        "  if(k==true):\n",
        "    print(i)\n",
        "\n"
      ],
      "metadata": {
        "id": "6VgSsil8BYKX",
        "colab": {
          "base_uri": "https://localhost:8080/"
        },
        "outputId": "e23cb611-1792-4075-cbd4-5c7acd919ad7"
      },
      "execution_count": null,
      "outputs": [
        {
          "output_type": "stream",
          "name": "stdout",
          "text": [
            "2\n",
            "3\n",
            "5\n",
            "7\n",
            "11\n",
            "13\n",
            "17\n",
            "19\n",
            "23\n",
            "29\n",
            "31\n",
            "37\n",
            "41\n",
            "43\n",
            "47\n",
            "53\n",
            "59\n",
            "61\n",
            "67\n",
            "71\n",
            "73\n",
            "79\n",
            "83\n",
            "89\n",
            "97\n"
          ]
        }
      ]
    },
    {
      "cell_type": "code",
      "source": [
        "n=int(input('enter the number:'))\n",
        "p=isprime(n)\n",
        "if(p==true):\n",
        "  print('it is prime')\n",
        "else:\n",
        "  print('not a prime')"
      ],
      "metadata": {
        "colab": {
          "base_uri": "https://localhost:8080/"
        },
        "id": "FHqhZR2_q2LL",
        "outputId": "d6787cf5-86d8-4ff4-db32-23d48d394c84"
      },
      "execution_count": null,
      "outputs": [
        {
          "output_type": "stream",
          "name": "stdout",
          "text": [
            "enter the number:7\n",
            "it is prime\n"
          ]
        }
      ]
    },
    {
      "cell_type": "code",
      "source": [
        "nterms = int(input(\"How many terms? \"))\n",
        "n1, n2 = 0, 1\n",
        "count = 0\n",
        "if nterms <= 0:\n",
        "   print(\"Please enter a positive integer\")\n",
        "elif nterms == 1:\n",
        "   print(\"Fibonacci sequence upto\",nterms,\":\")\n",
        "   print(n1)\n",
        "else:\n",
        "   print(\"Fibonacci sequence:\")\n",
        "   while count < nterms:\n",
        "       print(n1)\n",
        "       nth = n1 + n2\n",
        "       n1 = n2\n",
        "       n2 = nth\n",
        "       count += 1"
      ],
      "metadata": {
        "colab": {
          "base_uri": "https://localhost:8080/"
        },
        "id": "5ho9P45ZtpMl",
        "outputId": "00cd7571-1b9b-45f0-86b9-c666ba3605b6"
      },
      "execution_count": null,
      "outputs": [
        {
          "output_type": "stream",
          "name": "stdout",
          "text": [
            "How many terms? 9\n",
            "Fibonacci sequence:\n",
            "0\n",
            "1\n",
            "1\n",
            "2\n",
            "3\n",
            "5\n",
            "8\n",
            "13\n",
            "21\n"
          ]
        }
      ]
    },
    {
      "cell_type": "code",
      "source": [
        "num = int(input(\"enter the number:\"))\n",
        "for i in range(1, 11):\n",
        "   print(num, 'x', i, '=', num*i)\n"
      ],
      "metadata": {
        "colab": {
          "base_uri": "https://localhost:8080/"
        },
        "id": "LToxu7OzKnQC",
        "outputId": "74a30675-6b5c-49f3-db4e-6e5dd4a7feec"
      },
      "execution_count": null,
      "outputs": [
        {
          "output_type": "stream",
          "name": "stdout",
          "text": [
            "enter the number:7\n",
            "7 x 1 = 7\n",
            "7 x 2 = 14\n",
            "7 x 3 = 21\n",
            "7 x 4 = 28\n",
            "7 x 5 = 35\n",
            "7 x 6 = 42\n",
            "7 x 7 = 49\n",
            "7 x 8 = 56\n",
            "7 x 9 = 63\n",
            "7 x 10 = 70\n"
          ]
        }
      ]
    },
    {
      "cell_type": "code",
      "source": [
        "num = int(input(\"enter the number:\"))\n",
        "factorial = 1\n",
        "if num < 0:\n",
        "   print(\"Sorry, factorial does not exist for negative numbers\")\n",
        "elif num == 0:\n",
        "   print(\"The factorial of 0 is 1\")\n",
        "else:\n",
        "   for i in range(1,num + 1):\n",
        "       factorial = factorial*i\n",
        "   print(\"The factorial of\",num,\"is\",factorial)\n"
      ],
      "metadata": {
        "colab": {
          "base_uri": "https://localhost:8080/"
        },
        "id": "BOSmHc2vLBPv",
        "outputId": "88bbbe84-36cb-4d84-91a7-c158bc31e82d"
      },
      "execution_count": null,
      "outputs": [
        {
          "output_type": "stream",
          "name": "stdout",
          "text": [
            "enter the number:8\n",
            "The factorial of 8 is 40320\n"
          ]
        }
      ]
    },
    {
      "cell_type": "code",
      "source": [
        "for number in range(2, 51, 2):\n",
        "  print(number)"
      ],
      "metadata": {
        "colab": {
          "base_uri": "https://localhost:8080/"
        },
        "id": "xBAMSlWTLjYE",
        "outputId": "f8367768-f4d0-4c15-fd9b-b1a00e308b9c"
      },
      "execution_count": null,
      "outputs": [
        {
          "output_type": "stream",
          "name": "stdout",
          "text": [
            "2\n",
            "4\n",
            "6\n",
            "8\n",
            "10\n",
            "12\n",
            "14\n",
            "16\n",
            "18\n",
            "20\n",
            "22\n",
            "24\n",
            "26\n",
            "28\n",
            "30\n",
            "32\n",
            "34\n",
            "36\n",
            "38\n",
            "40\n",
            "42\n",
            "44\n",
            "46\n",
            "48\n",
            "50\n"
          ]
        }
      ]
    },
    {
      "cell_type": "code",
      "source": [
        "a = \"Hello\"\n",
        "b = \"World\"\n",
        "c = a + b\n",
        "print(c)"
      ],
      "metadata": {
        "colab": {
          "base_uri": "https://localhost:8080/"
        },
        "id": "rStQgrN8L4e8",
        "outputId": "54fdcf0f-5ee1-464b-d588-5f2ab9b9c03b"
      },
      "execution_count": null,
      "outputs": [
        {
          "output_type": "stream",
          "name": "stdout",
          "text": [
            "HelloWorld\n"
          ]
        }
      ]
    },
    {
      "cell_type": "code",
      "source": [
        "text = \"Hello, World!\"\n",
        "uppercase_text = text.upper()\n",
        "print(\"uppercase:\",uppercase_text)\n",
        "print(\"lowercase:\",text)"
      ],
      "metadata": {
        "colab": {
          "base_uri": "https://localhost:8080/"
        },
        "id": "7LF4B_KSMH9U",
        "outputId": "06e6edd8-70e1-41a3-990d-bcfb42d846ca"
      },
      "execution_count": null,
      "outputs": [
        {
          "output_type": "stream",
          "name": "stdout",
          "text": [
            "uppercase: HELLO, WORLD!\n",
            "lowercase: Hello, World!\n"
          ]
        }
      ]
    },
    {
      "cell_type": "code",
      "source": [
        "string = \"Hello, World!\"\n",
        "length = len(string)\n",
        "print(length)"
      ],
      "metadata": {
        "colab": {
          "base_uri": "https://localhost:8080/"
        },
        "id": "5o4l9XU9MkHZ",
        "outputId": "79d722ab-8618-4771-a341-3b427dc58e13"
      },
      "execution_count": null,
      "outputs": [
        {
          "output_type": "stream",
          "name": "stdout",
          "text": [
            "13\n"
          ]
        }
      ]
    },
    {
      "cell_type": "code",
      "source": [
        "my_string = \"Hello World\"\n",
        "first_five = my_string[:5]\n",
        "print(first_five)"
      ],
      "metadata": {
        "colab": {
          "base_uri": "https://localhost:8080/"
        },
        "id": "t049iHhQMwrE",
        "outputId": "63375a6f-c743-4861-c0c2-0bd5c2d368b7"
      },
      "execution_count": null,
      "outputs": [
        {
          "output_type": "stream",
          "name": "stdout",
          "text": [
            "Hello\n"
          ]
        }
      ]
    },
    {
      "cell_type": "code",
      "source": [
        "my_string = \"hello world\"\n",
        "last_four = my_string[-4:]\n",
        "print(last_four) # Output: ring"
      ],
      "metadata": {
        "id": "tB5sGz-QM_xt"
      },
      "execution_count": null,
      "outputs": []
    },
    {
      "cell_type": "code",
      "source": [
        "txt = \"Hello World\"[::-1]\n",
        "print(txt)"
      ],
      "metadata": {
        "colab": {
          "base_uri": "https://localhost:8080/"
        },
        "id": "1uWlvIh-OT20",
        "outputId": "f8cb91a7-dcbc-45d7-e1c0-f6c72ad8ed24"
      },
      "execution_count": null,
      "outputs": [
        {
          "output_type": "stream",
          "name": "stdout",
          "text": [
            "dlroW olleH\n"
          ]
        }
      ]
    },
    {
      "cell_type": "code",
      "source": [
        "thislist = [\"apple\", \"banana\", \"cherry\"]\n",
        "print(thislist[1])"
      ],
      "metadata": {
        "colab": {
          "base_uri": "https://localhost:8080/"
        },
        "id": "1NsygCP6Orvk",
        "outputId": "9aede816-70f7-4b3c-a104-d73cdd4f673f"
      },
      "execution_count": null,
      "outputs": [
        {
          "output_type": "stream",
          "name": "stdout",
          "text": [
            "banana\n"
          ]
        }
      ]
    },
    {
      "cell_type": "code",
      "source": [
        "currencies = ['Dollar', 'Euro', 'Pound']\n",
        "currencies.append('Yen')\n",
        "print(currencies)"
      ],
      "metadata": {
        "colab": {
          "base_uri": "https://localhost:8080/"
        },
        "id": "BC32dMHMPI2d",
        "outputId": "b82e4e6c-4c49-4f2c-8116-8793566f4225"
      },
      "execution_count": null,
      "outputs": [
        {
          "output_type": "stream",
          "name": "stdout",
          "text": [
            "['Dollar', 'Euro', 'Pound', 'Yen']\n"
          ]
        }
      ]
    },
    {
      "cell_type": "code",
      "source": [
        "thislist=[\"apple\",\"banana\",\"cherry\"]\n",
        "thislist.remove(\"banana\")\n",
        "print(thislist)"
      ],
      "metadata": {
        "colab": {
          "base_uri": "https://localhost:8080/"
        },
        "id": "R15cej_aQrWm",
        "outputId": "9d6dacfd-9f30-48bf-f3b9-348b54f05cd2"
      },
      "execution_count": null,
      "outputs": [
        {
          "output_type": "stream",
          "name": "stdout",
          "text": [
            "['apple', 'cherry']\n"
          ]
        }
      ]
    },
    {
      "cell_type": "code",
      "source": [
        "thistuple=(\"apple\",\"banana\",\"cherry\")\n",
        "print(thistuple[1])"
      ],
      "metadata": {
        "colab": {
          "base_uri": "https://localhost:8080/"
        },
        "id": "Ol7iln32QQG_",
        "outputId": "2e4950a5-24a1-4864-ff6c-ea5611374a5f"
      },
      "execution_count": null,
      "outputs": [
        {
          "output_type": "stream",
          "name": "stdout",
          "text": [
            "banana\n"
          ]
        }
      ]
    },
    {
      "cell_type": "code",
      "source": [
        "vowels=('a','e','i','o','i','u')\n",
        "count=vowels.count('i')\n",
        "print(count)"
      ],
      "metadata": {
        "colab": {
          "base_uri": "https://localhost:8080/"
        },
        "id": "hg6_YDz0RmPt",
        "outputId": "b7c6b17e-d75f-4797-95cb-9293d3c4e85a"
      },
      "execution_count": null,
      "outputs": [
        {
          "output_type": "stream",
          "name": "stdout",
          "text": [
            "2\n"
          ]
        }
      ]
    },
    {
      "cell_type": "code",
      "source": [
        "vowels = ('a', 'e', 'i', 'o', 'u')\n",
        "index = vowels.index('e')\n",
        "print(index)"
      ],
      "metadata": {
        "id": "dGGAar_dSen7",
        "outputId": "fe537739-2770-4e98-8a1a-ed5fac9e0289",
        "colab": {
          "base_uri": "https://localhost:8080/"
        }
      },
      "execution_count": null,
      "outputs": [
        {
          "output_type": "stream",
          "name": "stdout",
          "text": [
            "1\n"
          ]
        }
      ]
    },
    {
      "cell_type": "code",
      "source": [
        "thisdict = {\n",
        "  \"brand\": \"Ford\",\n",
        "  \"model\": \"Mustang\",\n",
        "  \"year\": 1964\n",
        "}\n",
        "x = thisdict[\"model\"]\n",
        "print(x)"
      ],
      "metadata": {
        "id": "qiBFg381Swgn",
        "outputId": "15a3253f-1665-421f-bab7-86f1ae36a700",
        "colab": {
          "base_uri": "https://localhost:8080/"
        }
      },
      "execution_count": null,
      "outputs": [
        {
          "output_type": "stream",
          "name": "stdout",
          "text": [
            "Mustang\n"
          ]
        }
      ]
    },
    {
      "cell_type": "code",
      "source": [
        "thisdict = {\n",
        "  \"brand\": \"Ford\",\n",
        "  \"model\": \"Mustang\",\n",
        "  \"year\": 1964\n",
        "}\n",
        "thisdict[\"color\"] = \"red\"\n",
        "print(thisdict)"
      ],
      "metadata": {
        "id": "cXD5yd8tTJgH",
        "outputId": "e2a1dbab-2c0d-4c31-c4f9-34e9cd863850",
        "colab": {
          "base_uri": "https://localhost:8080/"
        }
      },
      "execution_count": null,
      "outputs": [
        {
          "output_type": "stream",
          "name": "stdout",
          "text": [
            "{'brand': 'Ford', 'model': 'Mustang', 'year': 1964, 'color': 'red'}\n"
          ]
        }
      ]
    },
    {
      "cell_type": "code",
      "source": [
        "my_dict = {'a': 1, 'b': 2, 'c': 3}\n",
        "del my_dict['b']\n",
        "print(my_dict)"
      ],
      "metadata": {
        "id": "qFhis73STTZD",
        "outputId": "c997fc6b-341d-44d3-bb72-b11bf4df3d52",
        "colab": {
          "base_uri": "https://localhost:8080/"
        }
      },
      "execution_count": null,
      "outputs": [
        {
          "output_type": "stream",
          "name": "stdout",
          "text": [
            "{'a': 1, 'c': 3}\n"
          ]
        }
      ]
    },
    {
      "cell_type": "code",
      "source": [
        "my_set = {1, 2, 3, 4, 5}\n",
        "print(my_set)\n",
        "my_set_mixed = {1, \"Hello\", 3.4, True}\n",
        "print(my_set_mixed)\n",
        "empty_set = set()\n",
        "print(empty_set)"
      ],
      "metadata": {
        "id": "9EKs9zogstsP"
      },
      "execution_count": null,
      "outputs": []
    },
    {
      "cell_type": "code",
      "source": [
        "A = {2, 3, 5}\n",
        "B = {1, 3, 5}\n",
        "print('A U B = ', A.union(B))\n"
      ],
      "metadata": {
        "colab": {
          "base_uri": "https://localhost:8080/"
        },
        "id": "KXcXcSw2tE2W",
        "outputId": "40714b97-680f-4f19-d05d-a12d675a57db"
      },
      "execution_count": 2,
      "outputs": [
        {
          "output_type": "stream",
          "name": "stdout",
          "text": [
            "A U B =  {1, 2, 3, 5}\n"
          ]
        }
      ]
    },
    {
      "cell_type": "code",
      "source": [
        "A = {2, 3, 5}\n",
        "B = {1, 3, 5}\n",
        "print(A.intersection(B))\n"
      ],
      "metadata": {
        "colab": {
          "base_uri": "https://localhost:8080/"
        },
        "id": "j_L2LIfZthfz",
        "outputId": "04653d4c-2d93-4af8-e29e-e525234c427d"
      },
      "execution_count": 3,
      "outputs": [
        {
          "output_type": "stream",
          "name": "stdout",
          "text": [
            "{3, 5}\n"
          ]
        }
      ]
    },
    {
      "cell_type": "code",
      "source": [
        "def add_numbers(x, y):\n",
        "  return x + y\n",
        "num1 = 5\n",
        "num2 = 3\n",
        "sum_of_numbers = add_numbers(num1, num2)\n",
        "print(f\"The sum of {num1} and {num2} is: {sum_of_numbers}\")"
      ],
      "metadata": {
        "colab": {
          "base_uri": "https://localhost:8080/"
        },
        "id": "ddMhukgpt8Wo",
        "outputId": "51f8ffa7-94ef-4c0f-aa61-3da79536dbfd"
      },
      "execution_count": 4,
      "outputs": [
        {
          "output_type": "stream",
          "name": "stdout",
          "text": [
            "The sum of 5 and 3 is: 8\n"
          ]
        }
      ]
    },
    {
      "cell_type": "code",
      "source": [
        "def check_even_odd(number):\n",
        "    if number % 2 == 0:\n",
        "        return \"Even\"\n",
        "    else:\n",
        "        return \"Odd\""
      ],
      "metadata": {
        "id": "5xNRpWmOus7z"
      },
      "execution_count": 6,
      "outputs": []
    },
    {
      "cell_type": "code",
      "source": [
        "def add_numbers(a, b):\n",
        "    sum = a + b\n",
        "    print('Sum:', sum)\n",
        "add_numbers(2, 3)"
      ],
      "metadata": {
        "colab": {
          "base_uri": "https://localhost:8080/"
        },
        "id": "CHs-C7rqvL11",
        "outputId": "f7445f5d-5881-4032-aec9-42b8a3a5a06d"
      },
      "execution_count": 7,
      "outputs": [
        {
          "output_type": "stream",
          "name": "stdout",
          "text": [
            "Sum: 5\n"
          ]
        }
      ]
    },
    {
      "cell_type": "code",
      "source": [
        "    try:\n",
        "        result = 10 / 0\n",
        "    except ZeroDivisionError:\n",
        "        print(\"Error: Cannot divide by zero.\")"
      ],
      "metadata": {
        "colab": {
          "base_uri": "https://localhost:8080/"
        },
        "id": "RlxgwQbSxk3a",
        "outputId": "904130c0-ddc2-4225-ecdd-7f0c7bb9f2b8"
      },
      "execution_count": 8,
      "outputs": [
        {
          "output_type": "stream",
          "name": "stdout",
          "text": [
            "Error: Cannot divide by zero.\n"
          ]
        }
      ]
    },
    {
      "cell_type": "code",
      "source": [
        "    try:\n",
        "        num = int(input(\"Enter an integer: \"))\n",
        "    except ValueError:\n",
        "        print(\"Invalid input. Please enter an integer.\")"
      ],
      "metadata": {
        "colab": {
          "base_uri": "https://localhost:8080/"
        },
        "id": "fuPdtKWpx2cd",
        "outputId": "b981826d-b3db-4d7b-9c61-5a7ea3cebd4f"
      },
      "execution_count": 10,
      "outputs": [
        {
          "output_type": "stream",
          "name": "stdout",
          "text": [
            "Enter an integer: h\n",
            "Invalid input. Please enter an integer.\n"
          ]
        }
      ]
    },
    {
      "cell_type": "code",
      "source": [
        "my_dict = {\"apple\": 1, \"banana\": 2, \"cherry\": 3}\n",
        "try:\n",
        "    value = my_dict[\"date\"]\n",
        "    print(value)\n",
        "except KeyError:\n",
        "    print(\"Error: Key not found in the dictionary\")"
      ],
      "metadata": {
        "colab": {
          "base_uri": "https://localhost:8080/"
        },
        "id": "jXg33yBnyhCb",
        "outputId": "f6881290-82a1-479a-9ae2-ffd83fd2a4e0"
      },
      "execution_count": 11,
      "outputs": [
        {
          "output_type": "stream",
          "name": "stdout",
          "text": [
            "Error: Key not found in the dictionary\n"
          ]
        }
      ]
    }
  ]
}